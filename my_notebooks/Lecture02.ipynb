{
 "cells": [
  {
   "cell_type": "code",
   "execution_count": 1,
   "id": "341c74c9-5408-4a86-b4ed-2a0afb03e89a",
   "metadata": {},
   "outputs": [],
   "source": [
    "from functools import wraps\n",
    "\n",
    "import numpy as np\n",
    "import pandas as pd\n",
    "\n",
    "import matplotlib.pyplot as plt\n",
    "import seaborn as sns"
   ]
  },
  {
   "cell_type": "markdown",
   "id": "d145f37a-e843-4808-a9ed-0a66111911a3",
   "metadata": {},
   "source": [
    "## Generative model for globe toss"
   ]
  },
  {
   "cell_type": "markdown",
   "id": "aeb1d048-5412-457d-b242-5c680b73c572",
   "metadata": {},
   "source": [
    "Globe can turn up with either water or land with probability p and (1-p) respectively.\n",
    "Here we forget that this could be represented through a binomial distribution."
   ]
  },
  {
   "cell_type": "code",
   "execution_count": 45,
   "id": "947e063f-d164-49be-b254-889a2e7d3054",
   "metadata": {},
   "outputs": [],
   "source": [
    "def replicate_function(n):\n",
    "    def decorator(func):\n",
    "        @wraps(func)\n",
    "        def wrapper(*args, **kwargs):\n",
    "            outs = []\n",
    "            for i in range(n):\n",
    "                out = func(*args, **kwargs)\n",
    "                outs.append(out)\n",
    "            return outs\n",
    "        return wrapper\n",
    "    return decorator\n",
    "\n",
    "\n",
    "# @replicate_function(10)\n",
    "def run_globe_experiment(num_tosses, p_water):\n",
    "    values = [\"W\", \"L\"]\n",
    "    probs = [p, 1-p]\n",
    "    return np.random.choice(values, p=probs, size=num_tosses)\n",
    "\n",
    "\n",
    "def compute_posterior(sample, poss, sides):\n",
    "    W = sum(sample == \"W\")\n",
    "    L = sum(sample == \"L\")\n",
    "    ways = (sides * poss)**W * ((sides * (1 - poss))**L)\n",
    "    post = ways / sum(ways)\n",
    "    return post"
   ]
  },
  {
   "cell_type": "code",
   "execution_count": 67,
   "id": "22e718da-f652-423b-a231-f3cfc0696c10",
   "metadata": {},
   "outputs": [],
   "source": [
    "sides=20\n",
    "num_tosses = 10\n",
    "p = 0.75\n",
    "values = [\"W\", \"L\"]\n",
    "probs = [p, 1-p]\n",
    "poss = np.linspace(0, 1, sides+1)"
   ]
  },
  {
   "cell_type": "code",
   "execution_count": 99,
   "id": "e88e2c9f-92a9-4ad7-9cc3-5c40033da152",
   "metadata": {},
   "outputs": [
    {
     "data": {
      "text/plain": [
       "[<matplotlib.axis.XTick at 0x19bff8c2c10>,\n",
       " <matplotlib.axis.XTick at 0x19bff8c2be0>,\n",
       " <matplotlib.axis.XTick at 0x19bff8c21f0>,\n",
       " <matplotlib.axis.XTick at 0x19bff95c1f0>,\n",
       " <matplotlib.axis.XTick at 0x19bff95c940>]"
      ]
     },
     "execution_count": 99,
     "metadata": {},
     "output_type": "execute_result"
    },
    {
     "data": {
      "image/png": "[encoded data removed]",
      "text/plain": [
       "<Figure size 432x288 with 1 Axes>"
      ]
     },
     "metadata": {
      "needs_background": "light"
     },
     "output_type": "display_data"
    }
   ],
   "source": [
    "post = compute_posterior(run_globe_experiment(num_tosses=num_tosses, p_water=p), poss=poss, sides=sides)\n",
    "fig, ax = plt.subplots()\n",
    "g = sns.barplot(x=poss, y=post, ax=ax)\n",
    "ticks = g.get_xticks()\n",
    "g.set_xticks([tick_num for tick_num in ticks if tick_num / 20 in np.linspace(0, 1, 5)])"
   ]
  },
  {
   "cell_type": "code",
   "execution_count": 69,
   "id": "9183c7c7-a038-4ac7-bdb7-bbee6ff10bfc",
   "metadata": {},
   "outputs": [],
   "source": [
    "poss_mult = np.repeat(poss, 100)\n",
    "post_mult = np.zeros(shape=(100, len(poss)))\n",
    "for i in range(100):\n",
    "    post_mult[i, :] = compute_posterior(run_globe_experiment(num_tosses=num_tosses, p_water=p), poss=poss, sides=sides)\n",
    "post_mult = post_mult.reshape(-1, order=\"F\")"
   ]
  },
  {
   "cell_type": "code",
   "execution_count": 101,
   "id": "c0f6620b-5c43-4469-ac78-2269815f900f",
   "metadata": {},
   "outputs": [
    {
     "data": {
      "image/png": "[encoded data removed]",
      "text/plain": [
       "<Figure size 432x288 with 1 Axes>"
      ]
     },
     "metadata": {
      "needs_background": "light"
     },
     "output_type": "display_data"
    }
   ],
   "source": [
    "fig, ax = plt.subplots()\n",
    "g = sns.barplot(\n",
    "    x=poss_mult, \n",
    "    y=post_mult, \n",
    "    ax=ax,\n",
    "    estimator=np.mean,\n",
    "    ci=87\n",
    ")\n",
    "ticks = g.get_xticks()\n",
    "g.set_xticks([tick_num for tick_num in ticks if tick_num / 20 in np.linspace(0, 1, 5)]);"
   ]
  }
 ],
 "metadata": {
  "kernelspec": {
   "display_name": "Python (bayes)",
   "language": "python",
   "name": "bayes"
  },
  "language_info": {
   "codemirror_mode": {
    "name": "ipython",
    "version": 3
   },
   "file_extension": ".py",
   "mimetype": "text/x-python",
   "name": "python",
   "nbconvert_exporter": "python",
   "pygments_lexer": "ipython3",
   "version": "3.8.15"
  }
 },
 "nbformat": 4,
 "nbformat_minor": 5
}
