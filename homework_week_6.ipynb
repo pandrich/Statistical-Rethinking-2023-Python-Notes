{
 "cells": [
  {
   "cell_type": "code",
   "execution_count": 1,
   "id": "fa1ed8f2",
   "metadata": {},
   "outputs": [],
   "source": [
    "import scipy.stats as stats\n",
    "import numpy as np\n",
    "import matplotlib.pyplot as plt\n",
    "import pymc as pm\n",
    "import arviz as az\n",
    "import pandas as pd\n",
    "import xarray as xr\n",
    "from sklearn.preprocessing import scale\n",
    "import scipy\n",
    "from scipy.special import expit\n",
    "import pytensor.tensor as pt"
   ]
  },
  {
   "cell_type": "code",
   "execution_count": 3,
   "id": "06366d44",
   "metadata": {},
   "outputs": [
    {
     "data": {
      "text/html": [
       "<div>\n",
       "<style scoped>\n",
       "    .dataframe tbody tr th:only-of-type {\n",
       "        vertical-align: middle;\n",
       "    }\n",
       "\n",
       "    .dataframe tbody tr th {\n",
       "        vertical-align: top;\n",
       "    }\n",
       "\n",
       "    .dataframe thead th {\n",
       "        text-align: right;\n",
       "    }\n",
       "</style>\n",
       "<table border=\"1\" class=\"dataframe\">\n",
       "  <thead>\n",
       "    <tr style=\"text-align: right;\">\n",
       "      <th></th>\n",
       "      <th>density</th>\n",
       "      <th>pred</th>\n",
       "      <th>size</th>\n",
       "      <th>surv</th>\n",
       "      <th>propsurv</th>\n",
       "    </tr>\n",
       "  </thead>\n",
       "  <tbody>\n",
       "    <tr>\n",
       "      <th>0</th>\n",
       "      <td>10</td>\n",
       "      <td>no</td>\n",
       "      <td>big</td>\n",
       "      <td>9</td>\n",
       "      <td>0.9</td>\n",
       "    </tr>\n",
       "    <tr>\n",
       "      <th>1</th>\n",
       "      <td>10</td>\n",
       "      <td>no</td>\n",
       "      <td>big</td>\n",
       "      <td>10</td>\n",
       "      <td>1.0</td>\n",
       "    </tr>\n",
       "    <tr>\n",
       "      <th>2</th>\n",
       "      <td>10</td>\n",
       "      <td>no</td>\n",
       "      <td>big</td>\n",
       "      <td>7</td>\n",
       "      <td>0.7</td>\n",
       "    </tr>\n",
       "    <tr>\n",
       "      <th>3</th>\n",
       "      <td>10</td>\n",
       "      <td>no</td>\n",
       "      <td>big</td>\n",
       "      <td>10</td>\n",
       "      <td>1.0</td>\n",
       "    </tr>\n",
       "    <tr>\n",
       "      <th>4</th>\n",
       "      <td>10</td>\n",
       "      <td>no</td>\n",
       "      <td>small</td>\n",
       "      <td>9</td>\n",
       "      <td>0.9</td>\n",
       "    </tr>\n",
       "  </tbody>\n",
       "</table>\n",
       "</div>"
      ],
      "text/plain": [
       "   density pred   size  surv  propsurv\n",
       "0       10   no    big     9       0.9\n",
       "1       10   no    big    10       1.0\n",
       "2       10   no    big     7       0.7\n",
       "3       10   no    big    10       1.0\n",
       "4       10   no  small     9       0.9"
      ]
     },
     "execution_count": 3,
     "metadata": {},
     "output_type": "execute_result"
    }
   ],
   "source": [
    "frogs = pd.read_csv('Data/reedfrogs.csv',sep=';')\n",
    "frogs.head()"
   ]
  },
  {
   "cell_type": "code",
   "execution_count": 5,
   "id": "804eeb9b",
   "metadata": {},
   "outputs": [
    {
     "name": "stderr",
     "output_type": "stream",
     "text": [
      "G:\\Statistical_Rethinking\\rethinking\\Lib\\site-packages\\multipledispatch\\dispatcher.py:27: AmbiguityWarning: \n",
      "Ambiguities exist in dispatched function _unify\n",
      "\n",
      "The following signatures may result in ambiguous behavior:\n",
      "\t[ConstrainedVar, Var, Mapping], [object, ConstrainedVar, Mapping]\n",
      "\t[object, ConstrainedVar, Mapping], [ConstrainedVar, object, Mapping]\n",
      "\t[object, ConstrainedVar, Mapping], [ConstrainedVar, Var, Mapping]\n",
      "\t[ConstrainedVar, object, Mapping], [object, ConstrainedVar, Mapping]\n",
      "\n",
      "\n",
      "Consider making the following additions:\n",
      "\n",
      "@dispatch(ConstrainedVar, ConstrainedVar, Mapping)\n",
      "def _unify(...)\n",
      "\n",
      "@dispatch(ConstrainedVar, ConstrainedVar, Mapping)\n",
      "def _unify(...)\n",
      "\n",
      "@dispatch(ConstrainedVar, ConstrainedVar, Mapping)\n",
      "def _unify(...)\n",
      "\n",
      "@dispatch(ConstrainedVar, ConstrainedVar, Mapping)\n",
      "def _unify(...)\n",
      "  warn(warning_text(dispatcher.name, ambiguities), AmbiguityWarning)\n",
      "Auto-assigning NUTS sampler...\n",
      "Initializing NUTS using jitter+adapt_diag...\n",
      "Multiprocess sampling (4 chains in 4 jobs)\n",
      "NUTS: [sigma, a_bar, a]\n"
     ]
    },
    {
     "data": {
      "text/html": [
       "\n",
       "<style>\n",
       "    /* Turns off some styling */\n",
       "    progress {\n",
       "        /* gets rid of default border in Firefox and Opera. */\n",
       "        border: none;\n",
       "        /* Needs to be in here for Safari polyfill so background images work as expected. */\n",
       "        background-size: auto;\n",
       "    }\n",
       "    progress:not([value]), progress:not([value])::-webkit-progress-bar {\n",
       "        background: repeating-linear-gradient(45deg, #7e7e7e, #7e7e7e 10px, #5c5c5c 10px, #5c5c5c 20px);\n",
       "    }\n",
       "    .progress-bar-interrupted, .progress-bar-interrupted::-webkit-progress-bar {\n",
       "        background: #F44336;\n",
       "    }\n",
       "</style>\n"
      ],
      "text/plain": [
       "<IPython.core.display.HTML object>"
      ]
     },
     "metadata": {},
     "output_type": "display_data"
    },
    {
     "data": {
      "text/html": [
       "\n",
       "    <div>\n",
       "      <progress value='8000' class='' max='8000' style='width:300px; height:20px; vertical-align: middle;'></progress>\n",
       "      100.00% [8000/8000 00:05&lt;00:00 Sampling 4 chains, 0 divergences]\n",
       "    </div>\n",
       "    "
      ],
      "text/plain": [
       "<IPython.core.display.HTML object>"
      ]
     },
     "metadata": {},
     "output_type": "display_data"
    },
    {
     "name": "stderr",
     "output_type": "stream",
     "text": [
      "Sampling 4 chains for 1_000 tune and 1_000 draw iterations (4_000 + 4_000 draws total) took 18 seconds.\n"
     ]
    },
    {
     "data": {
      "text/html": [
       "\n",
       "<style>\n",
       "    /* Turns off some styling */\n",
       "    progress {\n",
       "        /* gets rid of default border in Firefox and Opera. */\n",
       "        border: none;\n",
       "        /* Needs to be in here for Safari polyfill so background images work as expected. */\n",
       "        background-size: auto;\n",
       "    }\n",
       "    progress:not([value]), progress:not([value])::-webkit-progress-bar {\n",
       "        background: repeating-linear-gradient(45deg, #7e7e7e, #7e7e7e 10px, #5c5c5c 10px, #5c5c5c 20px);\n",
       "    }\n",
       "    .progress-bar-interrupted, .progress-bar-interrupted::-webkit-progress-bar {\n",
       "        background: #F44336;\n",
       "    }\n",
       "</style>\n"
      ],
      "text/plain": [
       "<IPython.core.display.HTML object>"
      ]
     },
     "metadata": {},
     "output_type": "display_data"
    },
    {
     "data": {
      "text/html": [
       "\n",
       "    <div>\n",
       "      <progress value='4000' class='' max='4000' style='width:300px; height:20px; vertical-align: middle;'></progress>\n",
       "      100.00% [4000/4000 00:00&lt;00:00]\n",
       "    </div>\n",
       "    "
      ],
      "text/plain": [
       "<IPython.core.display.HTML object>"
      ]
     },
     "metadata": {},
     "output_type": "display_data"
    }
   ],
   "source": [
    "#Question 1\n",
    "predidx,pred = frogs['pred'].factorize()\n",
    "sizeidx,size = frogs['size'].factorize()\n",
    "with pm.Model() as frog_m:\n",
    "    D = pm.MutableData('D',frogs['density'].values)\n",
    "    P = pm.MutableData('P',predidx)\n",
    "    Si = pm.MutableData('S',sizeidx)\n",
    "    T = pm.MutableData('T',frogs.index.values)\n",
    "    Su = pm.MutableData('Su',frogs['surv'].values)\n",
    "    \n",
    "    sigma = pm.Exponential('sigma',1.0)\n",
    "    a_bar = pm.Normal('a_bar',0.0,1.0)\n",
    "    a     = pm.Normal('a',a_bar,sigma,shape=T.shape[0])\n",
    "\n",
    "    p      = a[T]\n",
    "    Survive     = pm.Binomial('Survive',n=D,logit_p=p,observed=Su)\n",
    "    \n",
    "    frog_trace = pm.sample()\n",
    "    pm.compute_log_likelihood(frog_trace)"
   ]
  },
  {
   "cell_type": "code",
   "execution_count": 6,
   "id": "2317be4c",
   "metadata": {},
   "outputs": [
    {
     "name": "stderr",
     "output_type": "stream",
     "text": [
      "Sampling: [Survive, a, a_bar, sigma]\n"
     ]
    }
   ],
   "source": [
    "with frog_m:\n",
    "    frog_pp = pm.sample_prior_predictive(samples=50)\n",
    "    "
   ]
  },
  {
   "cell_type": "code",
   "execution_count": 12,
   "id": "6c4342a8",
   "metadata": {},
   "outputs": [
    {
     "data": {
      "text/html": [
       "<div><svg style=\"position: absolute; width: 0; height: 0; overflow: hidden\">\n",
       "<defs>\n",
       "<symbol id=\"icon-database\" viewBox=\"0 0 32 32\">\n",
       "<path d=\"M16 0c-8.837 0-16 2.239-16 5v4c0 2.761 7.163 5 16 5s16-2.239 16-5v-4c0-2.761-7.163-5-16-5z\"></path>\n",
       "<path d=\"M16 17c-8.837 0-16-2.239-16-5v6c0 2.761 7.163 5 16 5s16-2.239 16-5v-6c0 2.761-7.163 5-16 5z\"></path>\n",
       "<path d=\"M16 26c-8.837 0-16-2.239-16-5v6c0 2.761 7.163 5 16 5s16-2.239 16-5v-6c0 2.761-7.163 5-16 5z\"></path>\n",
       "</symbol>\n",
       "<symbol id=\"icon-file-text2\" viewBox=\"0 0 32 32\">\n",
       "<path d=\"M28.681 7.159c-0.694-0.947-1.662-2.053-2.724-3.116s-2.169-2.030-3.116-2.724c-1.612-1.182-2.393-1.319-2.841-1.319h-15.5c-1.378 0-2.5 1.121-2.5 2.5v27c0 1.378 1.122 2.5 2.5 2.5h23c1.378 0 2.5-1.122 2.5-2.5v-19.5c0-0.448-0.137-1.23-1.319-2.841zM24.543 5.457c0.959 0.959 1.712 1.825 2.268 2.543h-4.811v-4.811c0.718 0.556 1.584 1.309 2.543 2.268zM28 29.5c0 0.271-0.229 0.5-0.5 0.5h-23c-0.271 0-0.5-0.229-0.5-0.5v-27c0-0.271 0.229-0.5 0.5-0.5 0 0 15.499-0 15.5 0v7c0 0.552 0.448 1 1 1h7v19.5z\"></path>\n",
       "<path d=\"M23 26h-14c-0.552 0-1-0.448-1-1s0.448-1 1-1h14c0.552 0 1 0.448 1 1s-0.448 1-1 1z\"></path>\n",
       "<path d=\"M23 22h-14c-0.552 0-1-0.448-1-1s0.448-1 1-1h14c0.552 0 1 0.448 1 1s-0.448 1-1 1z\"></path>\n",
       "<path d=\"M23 18h-14c-0.552 0-1-0.448-1-1s0.448-1 1-1h14c0.552 0 1 0.448 1 1s-0.448 1-1 1z\"></path>\n",
       "</symbol>\n",
       "</defs>\n",
       "</svg>\n",
       "<style>/* CSS stylesheet for displaying xarray objects in jupyterlab.\n",
       " *\n",
       " */\n",
       "\n",
       ":root {\n",
       "  --xr-font-color0: var(--jp-content-font-color0, rgba(0, 0, 0, 1));\n",
       "  --xr-font-color2: var(--jp-content-font-color2, rgba(0, 0, 0, 0.54));\n",
       "  --xr-font-color3: var(--jp-content-font-color3, rgba(0, 0, 0, 0.38));\n",
       "  --xr-border-color: var(--jp-border-color2, #e0e0e0);\n",
       "  --xr-disabled-color: var(--jp-layout-color3, #bdbdbd);\n",
       "  --xr-background-color: var(--jp-layout-color0, white);\n",
       "  --xr-background-color-row-even: var(--jp-layout-color1, white);\n",
       "  --xr-background-color-row-odd: var(--jp-layout-color2, #eeeeee);\n",
       "}\n",
       "\n",
       "html[theme=dark],\n",
       "body[data-theme=dark],\n",
       "body.vscode-dark {\n",
       "  --xr-font-color0: rgba(255, 255, 255, 1);\n",
       "  --xr-font-color2: rgba(255, 255, 255, 0.54);\n",
       "  --xr-font-color3: rgba(255, 255, 255, 0.38);\n",
       "  --xr-border-color: #1F1F1F;\n",
       "  --xr-disabled-color: #515151;\n",
       "  --xr-background-color: #111111;\n",
       "  --xr-background-color-row-even: #111111;\n",
       "  --xr-background-color-row-odd: #313131;\n",
       "}\n",
       "\n",
       ".xr-wrap {\n",
       "  display: block !important;\n",
       "  min-width: 300px;\n",
       "  max-width: 700px;\n",
       "}\n",
       "\n",
       ".xr-text-repr-fallback {\n",
       "  /* fallback to plain text repr when CSS is not injected (untrusted notebook) */\n",
       "  display: none;\n",
       "}\n",
       "\n",
       ".xr-header {\n",
       "  padding-top: 6px;\n",
       "  padding-bottom: 6px;\n",
       "  margin-bottom: 4px;\n",
       "  border-bottom: solid 1px var(--xr-border-color);\n",
       "}\n",
       "\n",
       ".xr-header > div,\n",
       ".xr-header > ul {\n",
       "  display: inline;\n",
       "  margin-top: 0;\n",
       "  margin-bottom: 0;\n",
       "}\n",
       "\n",
       ".xr-obj-type,\n",
       ".xr-array-name {\n",
       "  margin-left: 2px;\n",
       "  margin-right: 10px;\n",
       "}\n",
       "\n",
       ".xr-obj-type {\n",
       "  color: var(--xr-font-color2);\n",
       "}\n",
       "\n",
       ".xr-sections {\n",
       "  padding-left: 0 !important;\n",
       "  display: grid;\n",
       "  grid-template-columns: 150px auto auto 1fr 20px 20px;\n",
       "}\n",
       "\n",
       ".xr-section-item {\n",
       "  display: contents;\n",
       "}\n",
       "\n",
       ".xr-section-item input {\n",
       "  display: none;\n",
       "}\n",
       "\n",
       ".xr-section-item input + label {\n",
       "  color: var(--xr-disabled-color);\n",
       "}\n",
       "\n",
       ".xr-section-item input:enabled + label {\n",
       "  cursor: pointer;\n",
       "  color: var(--xr-font-color2);\n",
       "}\n",
       "\n",
       ".xr-section-item input:enabled + label:hover {\n",
       "  color: var(--xr-font-color0);\n",
       "}\n",
       "\n",
       ".xr-section-summary {\n",
       "  grid-column: 1;\n",
       "  color: var(--xr-font-color2);\n",
       "  font-weight: 500;\n",
       "}\n",
       "\n",
       ".xr-section-summary > span {\n",
       "  display: inline-block;\n",
       "  padding-left: 0.5em;\n",
       "}\n",
       "\n",
       ".xr-section-summary-in:disabled + label {\n",
       "  color: var(--xr-font-color2);\n",
       "}\n",
       "\n",
       ".xr-section-summary-in + label:before {\n",
       "  display: inline-block;\n",
       "  content: '►';\n",
       "  font-size: 11px;\n",
       "  width: 15px;\n",
       "  text-align: center;\n",
       "}\n",
       "\n",
       ".xr-section-summary-in:disabled + label:before {\n",
       "  color: var(--xr-disabled-color);\n",
       "}\n",
       "\n",
       ".xr-section-summary-in:checked + label:before {\n",
       "  content: '▼';\n",
       "}\n",
       "\n",
       ".xr-section-summary-in:checked + label > span {\n",
       "  display: none;\n",
       "}\n",
       "\n",
       ".xr-section-summary,\n",
       ".xr-section-inline-details {\n",
       "  padding-top: 4px;\n",
       "  padding-bottom: 4px;\n",
       "}\n",
       "\n",
       ".xr-section-inline-details {\n",
       "  grid-column: 2 / -1;\n",
       "}\n",
       "\n",
       ".xr-section-details {\n",
       "  display: none;\n",
       "  grid-column: 1 / -1;\n",
       "  margin-bottom: 5px;\n",
       "}\n",
       "\n",
       ".xr-section-summary-in:checked ~ .xr-section-details {\n",
       "  display: contents;\n",
       "}\n",
       "\n",
       ".xr-array-wrap {\n",
       "  grid-column: 1 / -1;\n",
       "  display: grid;\n",
       "  grid-template-columns: 20px auto;\n",
       "}\n",
       "\n",
       ".xr-array-wrap > label {\n",
       "  grid-column: 1;\n",
       "  vertical-align: top;\n",
       "}\n",
       "\n",
       ".xr-preview {\n",
       "  color: var(--xr-font-color3);\n",
       "}\n",
       "\n",
       ".xr-array-preview,\n",
       ".xr-array-data {\n",
       "  padding: 0 5px !important;\n",
       "  grid-column: 2;\n",
       "}\n",
       "\n",
       ".xr-array-data,\n",
       ".xr-array-in:checked ~ .xr-array-preview {\n",
       "  display: none;\n",
       "}\n",
       "\n",
       ".xr-array-in:checked ~ .xr-array-data,\n",
       ".xr-array-preview {\n",
       "  display: inline-block;\n",
       "}\n",
       "\n",
       ".xr-dim-list {\n",
       "  display: inline-block !important;\n",
       "  list-style: none;\n",
       "  padding: 0 !important;\n",
       "  margin: 0;\n",
       "}\n",
       "\n",
       ".xr-dim-list li {\n",
       "  display: inline-block;\n",
       "  padding: 0;\n",
       "  margin: 0;\n",
       "}\n",
       "\n",
       ".xr-dim-list:before {\n",
       "  content: '(';\n",
       "}\n",
       "\n",
       ".xr-dim-list:after {\n",
       "  content: ')';\n",
       "}\n",
       "\n",
       ".xr-dim-list li:not(:last-child):after {\n",
       "  content: ',';\n",
       "  padding-right: 5px;\n",
       "}\n",
       "\n",
       ".xr-has-index {\n",
       "  font-weight: bold;\n",
       "}\n",
       "\n",
       ".xr-var-list,\n",
       ".xr-var-item {\n",
       "  display: contents;\n",
       "}\n",
       "\n",
       ".xr-var-item > div,\n",
       ".xr-var-item label,\n",
       ".xr-var-item > .xr-var-name span {\n",
       "  background-color: var(--xr-background-color-row-even);\n",
       "  margin-bottom: 0;\n",
       "}\n",
       "\n",
       ".xr-var-item > .xr-var-name:hover span {\n",
       "  padding-right: 5px;\n",
       "}\n",
       "\n",
       ".xr-var-list > li:nth-child(odd) > div,\n",
       ".xr-var-list > li:nth-child(odd) > label,\n",
       ".xr-var-list > li:nth-child(odd) > .xr-var-name span {\n",
       "  background-color: var(--xr-background-color-row-odd);\n",
       "}\n",
       "\n",
       ".xr-var-name {\n",
       "  grid-column: 1;\n",
       "}\n",
       "\n",
       ".xr-var-dims {\n",
       "  grid-column: 2;\n",
       "}\n",
       "\n",
       ".xr-var-dtype {\n",
       "  grid-column: 3;\n",
       "  text-align: right;\n",
       "  color: var(--xr-font-color2);\n",
       "}\n",
       "\n",
       ".xr-var-preview {\n",
       "  grid-column: 4;\n",
       "}\n",
       "\n",
       ".xr-index-preview {\n",
       "  grid-column: 2 / 5;\n",
       "  color: var(--xr-font-color2);\n",
       "}\n",
       "\n",
       ".xr-var-name,\n",
       ".xr-var-dims,\n",
       ".xr-var-dtype,\n",
       ".xr-preview,\n",
       ".xr-attrs dt {\n",
       "  white-space: nowrap;\n",
       "  overflow: hidden;\n",
       "  text-overflow: ellipsis;\n",
       "  padding-right: 10px;\n",
       "}\n",
       "\n",
       ".xr-var-name:hover,\n",
       ".xr-var-dims:hover,\n",
       ".xr-var-dtype:hover,\n",
       ".xr-attrs dt:hover {\n",
       "  overflow: visible;\n",
       "  width: auto;\n",
       "  z-index: 1;\n",
       "}\n",
       "\n",
       ".xr-var-attrs,\n",
       ".xr-var-data,\n",
       ".xr-index-data {\n",
       "  display: none;\n",
       "  background-color: var(--xr-background-color) !important;\n",
       "  padding-bottom: 5px !important;\n",
       "}\n",
       "\n",
       ".xr-var-attrs-in:checked ~ .xr-var-attrs,\n",
       ".xr-var-data-in:checked ~ .xr-var-data,\n",
       ".xr-index-data-in:checked ~ .xr-index-data {\n",
       "  display: block;\n",
       "}\n",
       "\n",
       ".xr-var-data > table {\n",
       "  float: right;\n",
       "}\n",
       "\n",
       ".xr-var-name span,\n",
       ".xr-var-data,\n",
       ".xr-index-name div,\n",
       ".xr-index-data,\n",
       ".xr-attrs {\n",
       "  padding-left: 25px !important;\n",
       "}\n",
       "\n",
       ".xr-attrs,\n",
       ".xr-var-attrs,\n",
       ".xr-var-data,\n",
       ".xr-index-data {\n",
       "  grid-column: 1 / -1;\n",
       "}\n",
       "\n",
       "dl.xr-attrs {\n",
       "  padding: 0;\n",
       "  margin: 0;\n",
       "  display: grid;\n",
       "  grid-template-columns: 125px auto;\n",
       "}\n",
       "\n",
       ".xr-attrs dt,\n",
       ".xr-attrs dd {\n",
       "  padding: 0;\n",
       "  margin: 0;\n",
       "  float: left;\n",
       "  padding-right: 10px;\n",
       "  width: auto;\n",
       "}\n",
       "\n",
       ".xr-attrs dt {\n",
       "  font-weight: normal;\n",
       "  grid-column: 1;\n",
       "}\n",
       "\n",
       ".xr-attrs dt:hover span {\n",
       "  display: inline-block;\n",
       "  background: var(--xr-background-color);\n",
       "  padding-right: 10px;\n",
       "}\n",
       "\n",
       ".xr-attrs dd {\n",
       "  grid-column: 2;\n",
       "  white-space: pre-wrap;\n",
       "  word-break: break-all;\n",
       "}\n",
       "\n",
       ".xr-icon-database,\n",
       ".xr-icon-file-text2,\n",
       ".xr-no-icon {\n",
       "  display: inline-block;\n",
       "  vertical-align: middle;\n",
       "  width: 1em;\n",
       "  height: 1.5em !important;\n",
       "  stroke-width: 0;\n",
       "  stroke: currentColor;\n",
       "  fill: currentColor;\n",
       "}\n",
       "</style><pre class='xr-text-repr-fallback'>&lt;xarray.Dataset&gt;\n",
       "Dimensions:  (chain: 1, draw: 50, a_dim_0: 48)\n",
       "Coordinates:\n",
       "  * chain    (chain) int32 0\n",
       "  * draw     (draw) int32 0 1 2 3 4 5 6 7 8 9 ... 40 41 42 43 44 45 46 47 48 49\n",
       "  * a_dim_0  (a_dim_0) int32 0 1 2 3 4 5 6 7 8 9 ... 39 40 41 42 43 44 45 46 47\n",
       "Data variables:\n",
       "    sigma    (chain, draw) float64 0.179 1.382 0.569 ... 0.2043 0.3551 2.242\n",
       "    a_bar    (chain, draw) float64 0.1207 -0.9629 0.2884 ... -0.1127 -0.2456\n",
       "    a        (chain, draw, a_dim_0) float64 -0.07575 0.3119 ... -1.195 -3.675\n",
       "Attributes:\n",
       "    created_at:                 2023-02-13T04:53:44.733223\n",
       "    arviz_version:              0.14.0\n",
       "    inference_library:          pymc\n",
       "    inference_library_version:  5.0.1</pre><div class='xr-wrap' style='display:none'><div class='xr-header'><div class='xr-obj-type'>xarray.Dataset</div></div><ul class='xr-sections'><li class='xr-section-item'><input id='section-0c5d9e76-df00-4635-996b-7fc7b1450244' class='xr-section-summary-in' type='checkbox' disabled ><label for='section-0c5d9e76-df00-4635-996b-7fc7b1450244' class='xr-section-summary'  title='Expand/collapse section'>Dimensions:</label><div class='xr-section-inline-details'><ul class='xr-dim-list'><li><span class='xr-has-index'>chain</span>: 1</li><li><span class='xr-has-index'>draw</span>: 50</li><li><span class='xr-has-index'>a_dim_0</span>: 48</li></ul></div><div class='xr-section-details'></div></li><li class='xr-section-item'><input id='section-a578b3b6-6e09-4c2b-adba-fb646edd25bd' class='xr-section-summary-in' type='checkbox'  checked><label for='section-a578b3b6-6e09-4c2b-adba-fb646edd25bd' class='xr-section-summary' >Coordinates: <span>(3)</span></label><div class='xr-section-inline-details'></div><div class='xr-section-details'><ul class='xr-var-list'><li class='xr-var-item'><div class='xr-var-name'><span class='xr-has-index'>chain</span></div><div class='xr-var-dims'>(chain)</div><div class='xr-var-dtype'>int32</div><div class='xr-var-preview xr-preview'>0</div><input id='attrs-7492dbae-b349-47b0-874c-f5d96b8ed344' class='xr-var-attrs-in' type='checkbox' disabled><label for='attrs-7492dbae-b349-47b0-874c-f5d96b8ed344' title='Show/Hide attributes'><svg class='icon xr-icon-file-text2'><use xlink:href='#icon-file-text2'></use></svg></label><input id='data-cd143161-8bd8-414f-a618-87b40f0823b9' class='xr-var-data-in' type='checkbox'><label for='data-cd143161-8bd8-414f-a618-87b40f0823b9' title='Show/Hide data repr'><svg class='icon xr-icon-database'><use xlink:href='#icon-database'></use></svg></label><div class='xr-var-attrs'><dl class='xr-attrs'></dl></div><div class='xr-var-data'><pre>array([0])</pre></div></li><li class='xr-var-item'><div class='xr-var-name'><span class='xr-has-index'>draw</span></div><div class='xr-var-dims'>(draw)</div><div class='xr-var-dtype'>int32</div><div class='xr-var-preview xr-preview'>0 1 2 3 4 5 6 ... 44 45 46 47 48 49</div><input id='attrs-06744ee0-f7fa-4e87-b6b8-4557badf9e60' class='xr-var-attrs-in' type='checkbox' disabled><label for='attrs-06744ee0-f7fa-4e87-b6b8-4557badf9e60' title='Show/Hide attributes'><svg class='icon xr-icon-file-text2'><use xlink:href='#icon-file-text2'></use></svg></label><input id='data-1263d584-9803-4bf6-b388-302d117a6afe' class='xr-var-data-in' type='checkbox'><label for='data-1263d584-9803-4bf6-b388-302d117a6afe' title='Show/Hide data repr'><svg class='icon xr-icon-database'><use xlink:href='#icon-database'></use></svg></label><div class='xr-var-attrs'><dl class='xr-attrs'></dl></div><div class='xr-var-data'><pre>array([ 0,  1,  2,  3,  4,  5,  6,  7,  8,  9, 10, 11, 12, 13, 14, 15, 16, 17,\n",
       "       18, 19, 20, 21, 22, 23, 24, 25, 26, 27, 28, 29, 30, 31, 32, 33, 34, 35,\n",
       "       36, 37, 38, 39, 40, 41, 42, 43, 44, 45, 46, 47, 48, 49])</pre></div></li><li class='xr-var-item'><div class='xr-var-name'><span class='xr-has-index'>a_dim_0</span></div><div class='xr-var-dims'>(a_dim_0)</div><div class='xr-var-dtype'>int32</div><div class='xr-var-preview xr-preview'>0 1 2 3 4 5 6 ... 42 43 44 45 46 47</div><input id='attrs-ce7f375b-d080-46f5-bbe7-fff943b27e70' class='xr-var-attrs-in' type='checkbox' disabled><label for='attrs-ce7f375b-d080-46f5-bbe7-fff943b27e70' title='Show/Hide attributes'><svg class='icon xr-icon-file-text2'><use xlink:href='#icon-file-text2'></use></svg></label><input id='data-ef4dad49-ab70-4df1-87e2-9c5ebb4bf12b' class='xr-var-data-in' type='checkbox'><label for='data-ef4dad49-ab70-4df1-87e2-9c5ebb4bf12b' title='Show/Hide data repr'><svg class='icon xr-icon-database'><use xlink:href='#icon-database'></use></svg></label><div class='xr-var-attrs'><dl class='xr-attrs'></dl></div><div class='xr-var-data'><pre>array([ 0,  1,  2,  3,  4,  5,  6,  7,  8,  9, 10, 11, 12, 13, 14, 15, 16, 17,\n",
       "       18, 19, 20, 21, 22, 23, 24, 25, 26, 27, 28, 29, 30, 31, 32, 33, 34, 35,\n",
       "       36, 37, 38, 39, 40, 41, 42, 43, 44, 45, 46, 47])</pre></div></li></ul></div></li><li class='xr-section-item'><input id='section-c453e04f-b283-414a-a9d0-c7d37659b155' class='xr-section-summary-in' type='checkbox'  checked><label for='section-c453e04f-b283-414a-a9d0-c7d37659b155' class='xr-section-summary' >Data variables: <span>(3)</span></label><div class='xr-section-inline-details'></div><div class='xr-section-details'><ul class='xr-var-list'><li class='xr-var-item'><div class='xr-var-name'><span>sigma</span></div><div class='xr-var-dims'>(chain, draw)</div><div class='xr-var-dtype'>float64</div><div class='xr-var-preview xr-preview'>0.179 1.382 0.569 ... 0.3551 2.242</div><input id='attrs-a100b427-27a0-4bec-857f-9c51ec272dd1' class='xr-var-attrs-in' type='checkbox' disabled><label for='attrs-a100b427-27a0-4bec-857f-9c51ec272dd1' title='Show/Hide attributes'><svg class='icon xr-icon-file-text2'><use xlink:href='#icon-file-text2'></use></svg></label><input id='data-5bafa2aa-7d4f-4b9b-93b8-d6ea0c0a4a7b' class='xr-var-data-in' type='checkbox'><label for='data-5bafa2aa-7d4f-4b9b-93b8-d6ea0c0a4a7b' title='Show/Hide data repr'><svg class='icon xr-icon-database'><use xlink:href='#icon-database'></use></svg></label><div class='xr-var-attrs'><dl class='xr-attrs'></dl></div><div class='xr-var-data'><pre>array([[0.17902321, 1.38151424, 0.56897557, 0.67926018, 0.04521446,\n",
       "        0.89823589, 1.33802171, 0.28530074, 0.79665598, 0.07092614,\n",
       "        0.1287171 , 0.86000599, 1.70622253, 0.65095471, 0.17461131,\n",
       "        2.35277597, 1.1504283 , 4.28391373, 0.03093491, 0.36300129,\n",
       "        1.15354147, 1.45806896, 0.56724674, 0.03352257, 0.61573515,\n",
       "        0.27432339, 0.56581006, 0.35869889, 0.11451294, 0.31991673,\n",
       "        0.28190613, 1.17160069, 3.21754532, 0.88563342, 0.51470127,\n",
       "        0.68932433, 1.07787285, 0.09005619, 0.34737767, 0.22474997,\n",
       "        1.2500983 , 0.80696643, 0.3122075 , 0.89969933, 0.53253436,\n",
       "        0.13130475, 1.16477087, 0.20428349, 0.35512136, 2.2416604 ]])</pre></div></li><li class='xr-var-item'><div class='xr-var-name'><span>a_bar</span></div><div class='xr-var-dims'>(chain, draw)</div><div class='xr-var-dtype'>float64</div><div class='xr-var-preview xr-preview'>0.1207 -0.9629 ... -0.1127 -0.2456</div><input id='attrs-2740e81c-ac17-4902-b6f0-5929e764a127' class='xr-var-attrs-in' type='checkbox' disabled><label for='attrs-2740e81c-ac17-4902-b6f0-5929e764a127' title='Show/Hide attributes'><svg class='icon xr-icon-file-text2'><use xlink:href='#icon-file-text2'></use></svg></label><input id='data-6b619613-2da9-4b01-93e1-8b1e7e2a65aa' class='xr-var-data-in' type='checkbox'><label for='data-6b619613-2da9-4b01-93e1-8b1e7e2a65aa' title='Show/Hide data repr'><svg class='icon xr-icon-database'><use xlink:href='#icon-database'></use></svg></label><div class='xr-var-attrs'><dl class='xr-attrs'></dl></div><div class='xr-var-data'><pre>array([[ 0.12065869, -0.96292077,  0.28837875,  1.23198093,  1.95011052,\n",
       "         1.19791533,  0.38246351,  2.21909667, -1.31073163,  2.10018974,\n",
       "        -1.26152337, -1.07016199,  0.4418767 ,  0.33824829, -0.29645732,\n",
       "        -1.1042608 ,  1.41440489,  0.59933105, -0.89583452,  1.10881469,\n",
       "         0.27249401,  0.09898368,  0.88794605,  2.0415372 ,  1.37608367,\n",
       "         1.81324714, -1.45875811, -0.12843732, -0.20167398,  0.5158234 ,\n",
       "         0.14065672,  0.01794852, -0.36143416, -0.16683172,  0.49471309,\n",
       "        -0.69976901, -0.38439794, -0.95340713,  0.89437657,  1.25463475,\n",
       "         1.45844355,  0.00859536,  0.88996412,  1.55043053,  0.73674106,\n",
       "        -0.04056536, -0.71329588,  0.39333887, -0.11271918, -0.24560296]])</pre></div></li><li class='xr-var-item'><div class='xr-var-name'><span>a</span></div><div class='xr-var-dims'>(chain, draw, a_dim_0)</div><div class='xr-var-dtype'>float64</div><div class='xr-var-preview xr-preview'>-0.07575 0.3119 ... -1.195 -3.675</div><input id='attrs-7572f3fb-76b7-40d2-9841-7631caf461aa' class='xr-var-attrs-in' type='checkbox' disabled><label for='attrs-7572f3fb-76b7-40d2-9841-7631caf461aa' title='Show/Hide attributes'><svg class='icon xr-icon-file-text2'><use xlink:href='#icon-file-text2'></use></svg></label><input id='data-62fc4fc5-8759-4faa-b436-4efa13837df2' class='xr-var-data-in' type='checkbox'><label for='data-62fc4fc5-8759-4faa-b436-4efa13837df2' title='Show/Hide data repr'><svg class='icon xr-icon-database'><use xlink:href='#icon-database'></use></svg></label><div class='xr-var-attrs'><dl class='xr-attrs'></dl></div><div class='xr-var-data'><pre>array([[[-0.07574599,  0.3118715 ,  0.144637  , ...,  0.25658084,\n",
       "         -0.12959001,  0.25729232],\n",
       "        [-0.9033101 ,  0.83694286, -1.20208288, ...,  0.05324791,\n",
       "         -3.06958479, -1.87480005],\n",
       "        [ 0.74075809,  0.72933001, -0.41192581, ...,  0.51153744,\n",
       "          0.19993672,  0.92062708],\n",
       "        ...,\n",
       "        [ 0.18535706,  0.64110085,  0.4411704 , ...,  0.27621311,\n",
       "          0.40892552,  0.31305091],\n",
       "        [-0.07106833, -0.06684241,  0.11784265, ...,  0.34822771,\n",
       "         -0.1279348 ,  0.13548959],\n",
       "        [-2.59874257, -3.30827912,  0.10264511, ..., -0.24952314,\n",
       "         -1.19492751, -3.67475999]]])</pre></div></li></ul></div></li><li class='xr-section-item'><input id='section-582a6998-5053-4b70-876b-db1b3bbb28a4' class='xr-section-summary-in' type='checkbox'  ><label for='section-582a6998-5053-4b70-876b-db1b3bbb28a4' class='xr-section-summary' >Indexes: <span>(3)</span></label><div class='xr-section-inline-details'></div><div class='xr-section-details'><ul class='xr-var-list'><li class='xr-var-item'><div class='xr-index-name'><div>chain</div></div><div class='xr-index-preview'>PandasIndex</div><div></div><input id='index-3c87adb1-20e7-4c96-b59d-f7e1556d8072' class='xr-index-data-in' type='checkbox'/><label for='index-3c87adb1-20e7-4c96-b59d-f7e1556d8072' title='Show/Hide index repr'><svg class='icon xr-icon-database'><use xlink:href='#icon-database'></use></svg></label><div class='xr-index-data'><pre>PandasIndex(Int64Index([0], dtype=&#x27;int64&#x27;, name=&#x27;chain&#x27;))</pre></div></li><li class='xr-var-item'><div class='xr-index-name'><div>draw</div></div><div class='xr-index-preview'>PandasIndex</div><div></div><input id='index-92b0760b-6c69-4dbc-9636-be8d17de0373' class='xr-index-data-in' type='checkbox'/><label for='index-92b0760b-6c69-4dbc-9636-be8d17de0373' title='Show/Hide index repr'><svg class='icon xr-icon-database'><use xlink:href='#icon-database'></use></svg></label><div class='xr-index-data'><pre>PandasIndex(Int64Index([ 0,  1,  2,  3,  4,  5,  6,  7,  8,  9, 10, 11, 12, 13, 14, 15, 16,\n",
       "            17, 18, 19, 20, 21, 22, 23, 24, 25, 26, 27, 28, 29, 30, 31, 32, 33,\n",
       "            34, 35, 36, 37, 38, 39, 40, 41, 42, 43, 44, 45, 46, 47, 48, 49],\n",
       "           dtype=&#x27;int64&#x27;, name=&#x27;draw&#x27;))</pre></div></li><li class='xr-var-item'><div class='xr-index-name'><div>a_dim_0</div></div><div class='xr-index-preview'>PandasIndex</div><div></div><input id='index-c8cfc07f-90a9-41cf-af80-9da7527a4e4e' class='xr-index-data-in' type='checkbox'/><label for='index-c8cfc07f-90a9-41cf-af80-9da7527a4e4e' title='Show/Hide index repr'><svg class='icon xr-icon-database'><use xlink:href='#icon-database'></use></svg></label><div class='xr-index-data'><pre>PandasIndex(Int64Index([ 0,  1,  2,  3,  4,  5,  6,  7,  8,  9, 10, 11, 12, 13, 14, 15, 16,\n",
       "            17, 18, 19, 20, 21, 22, 23, 24, 25, 26, 27, 28, 29, 30, 31, 32, 33,\n",
       "            34, 35, 36, 37, 38, 39, 40, 41, 42, 43, 44, 45, 46, 47],\n",
       "           dtype=&#x27;int64&#x27;, name=&#x27;a_dim_0&#x27;))</pre></div></li></ul></div></li><li class='xr-section-item'><input id='section-8d9719d2-1647-4e17-943d-a33e54b06df5' class='xr-section-summary-in' type='checkbox'  checked><label for='section-8d9719d2-1647-4e17-943d-a33e54b06df5' class='xr-section-summary' >Attributes: <span>(4)</span></label><div class='xr-section-inline-details'></div><div class='xr-section-details'><dl class='xr-attrs'><dt><span>created_at :</span></dt><dd>2023-02-13T04:53:44.733223</dd><dt><span>arviz_version :</span></dt><dd>0.14.0</dd><dt><span>inference_library :</span></dt><dd>pymc</dd><dt><span>inference_library_version :</span></dt><dd>5.0.1</dd></dl></div></li></ul></div></div>"
      ],
      "text/plain": [
       "<xarray.Dataset>\n",
       "Dimensions:  (chain: 1, draw: 50, a_dim_0: 48)\n",
       "Coordinates:\n",
       "  * chain    (chain) int32 0\n",
       "  * draw     (draw) int32 0 1 2 3 4 5 6 7 8 9 ... 40 41 42 43 44 45 46 47 48 49\n",
       "  * a_dim_0  (a_dim_0) int32 0 1 2 3 4 5 6 7 8 9 ... 39 40 41 42 43 44 45 46 47\n",
       "Data variables:\n",
       "    sigma    (chain, draw) float64 0.179 1.382 0.569 ... 0.2043 0.3551 2.242\n",
       "    a_bar    (chain, draw) float64 0.1207 -0.9629 0.2884 ... -0.1127 -0.2456\n",
       "    a        (chain, draw, a_dim_0) float64 -0.07575 0.3119 ... -1.195 -3.675\n",
       "Attributes:\n",
       "    created_at:                 2023-02-13T04:53:44.733223\n",
       "    arviz_version:              0.14.0\n",
       "    inference_library:          pymc\n",
       "    inference_library_version:  5.0.1"
      ]
     },
     "execution_count": 12,
     "metadata": {},
     "output_type": "execute_result"
    }
   ],
   "source": [
    "frog_pp.prior"
   ]
  },
  {
   "cell_type": "code",
   "execution_count": 15,
   "id": "a6746bb9",
   "metadata": {},
   "outputs": [
    {
     "data": {
      "text/plain": [
       "array([<AxesSubplot: title={'center': 'sigma'}>,\n",
       "       <AxesSubplot: title={'center': 'a_bar'}>,\n",
       "       <AxesSubplot: title={'center': 'a'}>], dtype=object)"
      ]
     },
     "execution_count": 15,
     "metadata": {},
     "output_type": "execute_result"
    },
    {
     "data": {
      "image/png": "[encoded data removed]",
      "text/plain": [
       "<Figure size 2208x552 with 3 Axes>"
      ]
     },
     "metadata": {},
     "output_type": "display_data"
    }
   ],
   "source": [
    "az.plot_posterior(expit(frog_pp.prior),combine_dims={'chain','draw','a_dim_0'})"
   ]
  },
  {
   "cell_type": "code",
   "execution_count": 18,
   "id": "91e11c0f",
   "metadata": {},
   "outputs": [
    {
     "data": {
      "text/plain": [
       "<AxesSubplot: title={'center': 'Survive'}>"
      ]
     },
     "execution_count": 18,
     "metadata": {},
     "output_type": "execute_result"
    },
    {
     "data": {
      "image/png": "[encoded data removed]",
      "text/plain": [
       "<Figure size 640x480 with 1 Axes>"
      ]
     },
     "metadata": {},
     "output_type": "display_data"
    }
   ],
   "source": [
    "az.plot_posterior(frog_pp.prior_predictive,combine_dims={'chain','draw','Survive_dim_0'})"
   ]
  },
  {
   "cell_type": "code",
   "execution_count": 19,
   "id": "ba808874",
   "metadata": {},
   "outputs": [
    {
     "name": "stderr",
     "output_type": "stream",
     "text": [
      "Sampling: [Survive, a, a_bar, sigma]\n"
     ]
    }
   ],
   "source": [
    "predidx,pred = frogs['pred'].factorize()\n",
    "sizeidx,size = frogs['size'].factorize()\n",
    "with pm.Model() as frog_m:\n",
    "    D = pm.MutableData('D',frogs['density'].values)\n",
    "    P = pm.MutableData('P',predidx)\n",
    "    Si = pm.MutableData('S',sizeidx)\n",
    "    T = pm.MutableData('T',frogs.index.values)\n",
    "    Su = pm.MutableData('Su',frogs['surv'].values)\n",
    "    \n",
    "    sigma = pm.Exponential('sigma',10.0)\n",
    "    a_bar = pm.Normal('a_bar',0.0,1.0)\n",
    "    a     = pm.Normal('a',a_bar,sigma,shape=T.shape[0])\n",
    "\n",
    "    p      = a[T]\n",
    "    Survive     = pm.Binomial('Survive',n=D,logit_p=p,observed=Su)\n",
    "\n",
    "    frog_pp_10 = pm.sample_prior_predictive(samples=50)\n",
    "    #pm.compute_log_likelihood(frog_trace)"
   ]
  },
  {
   "cell_type": "code",
   "execution_count": 20,
   "id": "2c96126f",
   "metadata": {},
   "outputs": [
    {
     "data": {
      "text/plain": [
       "<AxesSubplot: title={'center': 'Survive'}>"
      ]
     },
     "execution_count": 20,
     "metadata": {},
     "output_type": "execute_result"
    },
    {
     "data": {
      "image/png": "[encoded data removed]",
      "text/plain": [
       "<Figure size 640x480 with 1 Axes>"
      ]
     },
     "metadata": {},
     "output_type": "display_data"
    }
   ],
   "source": [
    "az.plot_posterior(frog_pp_10.prior_predictive,combine_dims={'chain','draw','Survive_dim_0'})"
   ]
  },
  {
   "cell_type": "code",
   "execution_count": 21,
   "id": "d11d2052",
   "metadata": {},
   "outputs": [
    {
     "name": "stderr",
     "output_type": "stream",
     "text": [
      "Sampling: [Survive, a, a_bar, sigma]\n"
     ]
    }
   ],
   "source": [
    "with pm.Model() as frog_m:\n",
    "    D = pm.MutableData('D',frogs['density'].values)\n",
    "    P = pm.MutableData('P',predidx)\n",
    "    Si = pm.MutableData('S',sizeidx)\n",
    "    T = pm.MutableData('T',frogs.index.values)\n",
    "    Su = pm.MutableData('Su',frogs['surv'].values)\n",
    "    \n",
    "    sigma = pm.Exponential('sigma',.1)\n",
    "    a_bar = pm.Normal('a_bar',0.0,1.0)\n",
    "    a     = pm.Normal('a',a_bar,sigma,shape=T.shape[0])\n",
    "\n",
    "    p      = a[T]\n",
    "    Survive     = pm.Binomial('Survive',n=D,logit_p=p,observed=Su)\n",
    "\n",
    "    frog_pp_01 = pm.sample_prior_predictive(samples=50)"
   ]
  },
  {
   "cell_type": "code",
   "execution_count": 22,
   "id": "6b244e11",
   "metadata": {},
   "outputs": [
    {
     "data": {
      "text/plain": [
       "<AxesSubplot: title={'center': 'Survive'}>"
      ]
     },
     "execution_count": 22,
     "metadata": {},
     "output_type": "execute_result"
    },
    {
     "data": {
      "image/png": "[encoded data removed]",
      "text/plain": [
       "<Figure size 640x480 with 1 Axes>"
      ]
     },
     "metadata": {},
     "output_type": "display_data"
    }
   ],
   "source": [
    "az.plot_posterior(frog_pp_01.prior_predictive,combine_dims={'chain','draw','Survive_dim_0'})"
   ]
  },
  {
   "cell_type": "code",
   "execution_count": null,
   "id": "4f0b75cc",
   "metadata": {},
   "outputs": [],
   "source": [
    "# Question 2\n",
    "\n"
   ]
  }
 ],
 "metadata": {
  "kernelspec": {
   "display_name": "Python 3 (ipykernel)",
   "language": "python",
   "name": "python3"
  },
  "language_info": {
   "codemirror_mode": {
    "name": "ipython",
    "version": 3
   },
   "file_extension": ".py",
   "mimetype": "text/x-python",
   "name": "python",
   "nbconvert_exporter": "python",
   "pygments_lexer": "ipython3",
   "version": "3.11.0"
  }
 },
 "nbformat": 4,
 "nbformat_minor": 5
}
